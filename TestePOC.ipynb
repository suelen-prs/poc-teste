{
  "nbformat": 4,
  "nbformat_minor": 0,
  "metadata": {
    "colab": {
      "provenance": [],
      "authorship_tag": "ABX9TyPsg4zqX1UMCY0wMcnDvgO2",
      "include_colab_link": true
    },
    "kernelspec": {
      "name": "python3",
      "display_name": "Python 3"
    },
    "language_info": {
      "name": "python"
    }
  },
  "cells": [
    {
      "cell_type": "markdown",
      "metadata": {
        "id": "view-in-github",
        "colab_type": "text"
      },
      "source": [
        "<a href=\"https://colab.research.google.com/github/suelen-prs/poc-teste/blob/master/TestePOC.ipynb\" target=\"_parent\"><img src=\"https://colab.research.google.com/assets/colab-badge.svg\" alt=\"Open In Colab\"/></a>"
      ]
    },
    {
      "cell_type": "code",
      "source": [
        "!pip install openai"
      ],
      "metadata": {
        "colab": {
          "base_uri": "https://localhost:8080/"
        },
        "id": "Y5m21J41njKA",
        "outputId": "7a2cfc83-96be-43c0-bdec-c4fc6b3cc1e1"
      },
      "execution_count": null,
      "outputs": [
        {
          "output_type": "stream",
          "name": "stdout",
          "text": [
            "Looking in indexes: https://pypi.org/simple, https://us-python.pkg.dev/colab-wheels/public/simple/\n",
            "Collecting openai\n",
            "  Downloading openai-0.27.4-py3-none-any.whl (70 kB)\n",
            "\u001b[2K     \u001b[90m━━━━━━━━━━━━━━━━━━━━━━━━━━━━━━━━━━━━━━━━\u001b[0m \u001b[32m70.3/70.3 kB\u001b[0m \u001b[31m2.4 MB/s\u001b[0m eta \u001b[36m0:00:00\u001b[0m\n",
            "\u001b[?25hCollecting aiohttp\n",
            "  Downloading aiohttp-3.8.4-cp39-cp39-manylinux_2_17_x86_64.manylinux2014_x86_64.whl (1.0 MB)\n",
            "\u001b[2K     \u001b[90m━━━━━━━━━━━━━━━━━━━━━━━━━━━━━━━━━━━━━━━━\u001b[0m \u001b[32m1.0/1.0 MB\u001b[0m \u001b[31m13.6 MB/s\u001b[0m eta \u001b[36m0:00:00\u001b[0m\n",
            "\u001b[?25hRequirement already satisfied: requests>=2.20 in /usr/local/lib/python3.9/dist-packages (from openai) (2.27.1)\n",
            "Requirement already satisfied: tqdm in /usr/local/lib/python3.9/dist-packages (from openai) (4.65.0)\n",
            "Requirement already satisfied: idna<4,>=2.5 in /usr/local/lib/python3.9/dist-packages (from requests>=2.20->openai) (3.4)\n",
            "Requirement already satisfied: certifi>=2017.4.17 in /usr/local/lib/python3.9/dist-packages (from requests>=2.20->openai) (2022.12.7)\n",
            "Requirement already satisfied: charset-normalizer~=2.0.0 in /usr/local/lib/python3.9/dist-packages (from requests>=2.20->openai) (2.0.12)\n",
            "Requirement already satisfied: urllib3<1.27,>=1.21.1 in /usr/local/lib/python3.9/dist-packages (from requests>=2.20->openai) (1.26.15)\n",
            "Collecting yarl<2.0,>=1.0\n",
            "  Downloading yarl-1.8.2-cp39-cp39-manylinux_2_17_x86_64.manylinux2014_x86_64.whl (264 kB)\n",
            "\u001b[2K     \u001b[90m━━━━━━━━━━━━━━━━━━━━━━━━━━━━━━━━━━━━━━\u001b[0m \u001b[32m264.6/264.6 kB\u001b[0m \u001b[31m11.0 MB/s\u001b[0m eta \u001b[36m0:00:00\u001b[0m\n",
            "\u001b[?25hRequirement already satisfied: attrs>=17.3.0 in /usr/local/lib/python3.9/dist-packages (from aiohttp->openai) (23.1.0)\n",
            "Collecting aiosignal>=1.1.2\n",
            "  Downloading aiosignal-1.3.1-py3-none-any.whl (7.6 kB)\n",
            "Collecting frozenlist>=1.1.1\n",
            "  Downloading frozenlist-1.3.3-cp39-cp39-manylinux_2_5_x86_64.manylinux1_x86_64.manylinux_2_17_x86_64.manylinux2014_x86_64.whl (158 kB)\n",
            "\u001b[2K     \u001b[90m━━━━━━━━━━━━━━━━━━━━━━━━━━━━━━━━━━━━━━━\u001b[0m \u001b[32m158.8/158.8 kB\u001b[0m \u001b[31m7.8 MB/s\u001b[0m eta \u001b[36m0:00:00\u001b[0m\n",
            "\u001b[?25hCollecting multidict<7.0,>=4.5\n",
            "  Downloading multidict-6.0.4-cp39-cp39-manylinux_2_17_x86_64.manylinux2014_x86_64.whl (114 kB)\n",
            "\u001b[2K     \u001b[90m━━━━━━━━━━━━━━━━━━━━━━━━━━━━━━━━━━━━━━━\u001b[0m \u001b[32m114.2/114.2 kB\u001b[0m \u001b[31m3.1 MB/s\u001b[0m eta \u001b[36m0:00:00\u001b[0m\n",
            "\u001b[?25hCollecting async-timeout<5.0,>=4.0.0a3\n",
            "  Downloading async_timeout-4.0.2-py3-none-any.whl (5.8 kB)\n",
            "Installing collected packages: multidict, frozenlist, async-timeout, yarl, aiosignal, aiohttp, openai\n",
            "Successfully installed aiohttp-3.8.4 aiosignal-1.3.1 async-timeout-4.0.2 frozenlist-1.3.3 multidict-6.0.4 openai-0.27.4 yarl-1.8.2\n"
          ]
        }
      ]
    },
    {
      "cell_type": "code",
      "source": [
        "!pip install PyPDF2"
      ],
      "metadata": {
        "colab": {
          "base_uri": "https://localhost:8080/"
        },
        "id": "oDYeWlFVoqvW",
        "outputId": "1a0ed438-7ca8-4745-c07a-3c679397e492"
      },
      "execution_count": null,
      "outputs": [
        {
          "output_type": "stream",
          "name": "stdout",
          "text": [
            "Looking in indexes: https://pypi.org/simple, https://us-python.pkg.dev/colab-wheels/public/simple/\n",
            "Collecting PyPDF2\n",
            "  Downloading pypdf2-3.0.1-py3-none-any.whl (232 kB)\n",
            "\u001b[2K     \u001b[90m━━━━━━━━━━━━━━━━━━━━━━━━━━━━━━━━━━━━━━━\u001b[0m \u001b[32m232.6/232.6 kB\u001b[0m \u001b[31m8.7 MB/s\u001b[0m eta \u001b[36m0:00:00\u001b[0m\n",
            "\u001b[?25hRequirement already satisfied: typing_extensions>=3.10.0.0 in /usr/local/lib/python3.9/dist-packages (from PyPDF2) (4.5.0)\n",
            "Installing collected packages: PyPDF2\n",
            "Successfully installed PyPDF2-3.0.1\n"
          ]
        }
      ]
    },
    {
      "cell_type": "code",
      "source": [
        "import openai\n",
        "import PyPDF2"
      ],
      "metadata": {
        "id": "diZF2MfYop33"
      },
      "execution_count": null,
      "outputs": []
    },
    {
      "cell_type": "code",
      "source": [
        "import openai\n",
        "\n",
        "# Substitua YOUR_API_KEY com a chave da API do OpenAI\n",
        "openai.api_key = \"\"\n",
        "\n",
        "def read_file(file_path):\n",
        "    with open(file_path, 'r') as file:\n",
        "        content = file.read()\n",
        "    return content\n",
        "\n",
        "def generate_gpt_response(prompt):\n",
        "    response = openai.Completion.create(\n",
        "        engine=\"text-davinci-002\",\n",
        "        prompt=prompt,\n",
        "        max_tokens=150,\n",
        "        n=1,\n",
        "        stop=None,\n",
        "        temperature=0.7,\n",
        "    )\n",
        "    return response.choices[0].text.strip()\n",
        "\n",
        "def main():\n",
        "    file_path = \"cvale-txt.txt\" \n",
        "    content = read_file(file_path)\n",
        "    print(\"Conteúdo do arquivo:\", content)\n",
        "    \n",
        "    prompt = f\"O texto a seguir foi retirado de um arquivo: '{content}'. Por favor, extraia algumas variaveis do conteúdo:\"\n",
        "    gpt_response = generate_gpt_response(prompt)\n",
        "    print(\"Resposta do GPT:\", gpt_response)\n",
        "\n",
        "if __name__ == \"__main__\":\n",
        "    main()\n"
      ],
      "metadata": {
        "colab": {
          "base_uri": "https://localhost:8080/"
        },
        "id": "7tBScocw6uav",
        "outputId": "9dccbdbf-a2bf-43ff-b598-3e4dd343518b"
      },
      "execution_count": null,
      "outputs": [
        {
          "output_type": "stream",
          "name": "stdout",
          "text": [
            "Conteúdo do arquivo: --- Página 1 ---\n",
            "C.VALE\n",
            "\n",
            "e:s RELATÓRIO | 2022\n",
            "DEMONSTRAÇÕES FINANCEIRAS DEMONSTRAÇÃO DE SOBRAS OU PERDAS\n",
            "\n",
            "C.Vale - Cooperativa Agroindustrial Exercícios findos em 31 de dezembro de 2022 e 2021 (em milhares de reais)\n",
            "\n",
            "CNPJ/MF 77.863.223/0001-07\n",
            "\n",
            "Controladora Consolidado\n",
            "\n",
            "2022 2021\n",
            "\n",
            "Ingressos e receitas operacionais líquidas 26 16.715.455 3.180.240 19.895.695 17.261.001 22.436.067 18.812.623\n",
            "Dispêndios e custos das vendas 27 (13756845)  (2714.933) (16471777) — (14639490) (18760922) (16.081.868)\n",
            "SOBRA E LUCRO BRUTO OPERACIONAL 2.958.610 465.308 3423918 2.621.511 3.675.144 — 2730755\n",
            "DISPÊNDIOS E DESPESAS OPERACIONAIS (1975.881] — (375.008) (2350.889) (2038.690)  (2572317) (1989.521)\n",
            "Dispêndios e despesas administrativas 28 (440.286) (84.439) (524.724) (406.357) (545.340) (420.953)\n",
            "Dispêndios e despesas com pessoal 29 (383.661) (73.579) (457.240) (348142) (479.598) (353.554)\n",
            "Dispêndios e despesas comerciais 30 (1157.976) (222.078) (1380.054) (1.002.543) (1531199) — (1.079.980)\n",
            "Dispêndios e despesas tributárias 31 (69.555) (13.339) (82.894) (164.819) (102.331) (171.727)\n",
            "Perdas esperadas contas a receber n 35.788 6.864 42.652 (139.689) 42.652 (143.054)\n",
            "Outros dispêndios e ingressos operacionais 39.808 11.564 51.372 22.859 43.499 179.747\n",
            "RESULTADO ANTES DO FINANCEIRO 982.729 90.300 1.073.029 582.820 1102.827 741.234\n",
            "RESULTADO FINANCEIRO LÍQUIDO [399.281) (90.331) (489.612) 129.274) [564.130) [312.725)\n",
            "Ingressos e receitas financeiras 32 40.888 124.093 164980 116745 191438 126.635\n",
            "Dispêndios e despesas financeiras 32 (440168) (214.424) (654.592) (246.019) (755.569) (439.36])\n",
            "RESULTADO PARTICIPAÇÕES SOCIETÁRIAS 15 19141 (11.271) 7.869 (1761) 22.812 16:182\n",
            "RESULTADO ANTES DOS TRIBUTOS SOBRE O LUCRO 602.589 (11.303) 591.286 451.785 561.509 444,690\n",
            "TRIBUTOS SOBRE OS LUCROS - (13.073) (13.073) (49.448) (19.306) (54.756)\n",
            "Imposto de renda e contribuição social correntes — 21.a - (64.640) (64.640) (49.448) (70120) (54.756)\n",
            "Imposto de renda e contribuição social diferidos 21.a - 51.567 51.567 - 50.814 -\n",
            "SOBRA E LUCRO LÍQUIDO DO EXERCÍCIO 602.589 (24.376) 578.213 402337 542.203 389.934\n",
            "\n",
            "SOBRA E LUCRO LÍQUIDO DO\n",
            "EXERCÍCIO ATRIBUÍDO AOS:\n",
            "\n",
            "Controladores 578.213 402.337\n",
            "\n",
            "Não controladores (36.010) (12.402)\n",
            "\n",
            "SOBRA E LUCRO LÍQUIDO DO EXERCÍCIO 602.589 (24.376) 578.213 402337 542.203 389.934\n",
            "AJUSTES LEGAIS E ESTATUTÁRIOS (307.996) (35.013) (343.009) (116.247)\n",
            "Reserva incentivos fiscais e estatutários (307.996) (35.013) (343.009) (16.247)\n",
            "SOBRA E LUCRO LÍQUIDO DO EXERCÍCIO 294593 — (59,390) 235.204 286.090\n",
            "Absorção prejuízos de não associados (59.390) 59.390 - -\n",
            "SOBRA E LUCRO A SER DISTRIBUÍDO 235.204 - 235.204 286.090\n",
            "DESTINAÇÕES ESTATUTÁRIAS (164.642) - (164.642) — (200.263)\n",
            "Fates/Rates (23.520) - (23.520) (28.609)\n",
            "Reserva legal (70.561) - (70.561) (85.827)\n",
            "Reserva de desenvolvimento (70.561) - (70.561) (85.827)\n",
            "SOBRAS LÍQUIDAS À DISPOSIÇÃO DA AGO 70.562 - 70.562 85.827\n",
            "\n",
            "As notas explicativas são parte integrante das Demonstrações Financeiras.\n",
            "\n",
            "Alfredo Lang Adolfo Carvilhe Vilalba Nelson Beltrame\n",
            "198.835.280-00 040.003.938-98 718.192.319-68\n",
            "Diretor Presidente Controller Contador CRC/PR 37.823/O-7\n",
            "\n",
            "\n",
            "\n",
            "Resposta do GPT: CNPJ - 77.863.223/0001-07\n",
            "\n",
            "Razão social - C.Vale\n",
            "\n",
            "Exercícios findos - 31 de dezembro de 2022 e 2021\n",
            "\n",
            "Resultado antes do financeiro - 982.729\n",
            "\n",
            "Resultado financeiro líquido - 399.281\n",
            "\n",
            "Resultado participações societárias - 15\n",
            "\n",
            "Resultado antes dos tributos sobre o lucro - 602.589\n",
            "\n",
            "Tributos sobre os lucros - 13.073\n",
            "\n",
            "Sobra e lucro líquido do exercício - 602.589\n"
          ]
        }
      ]
    },
    {
      "cell_type": "code",
      "source": [
        "openai.api_key = \"\"\n",
        "\n",
        "def read_file(file_path):\n",
        "    with open(file_path, 'r') as file:\n",
        "        content = file.read()\n",
        "    return content\n",
        "\n",
        "def generate_gpt_response(prompt):\n",
        "    response = openai.Completion.create(\n",
        "        engine=\"text-davinci-002\",\n",
        "        prompt=prompt,\n",
        "        max_tokens=150,\n",
        "        n=1,\n",
        "        stop=None,\n",
        "        temperature=0.7,\n",
        "    )\n",
        "    return response.choices[0].text.strip()\n",
        "\n",
        "def main():\n",
        "    file_path = \"associacao-txt.txt\" \n",
        "    content = read_file(file_path)\n",
        "    print(\"Conteúdo do arquivo:\", content)\n",
        "    \n",
        "    prompt = f\"O texto a seguir foi retirado de um arquivo: '{content}'. Por favor, extraia algumas variaveis do conteúdo:\"\n",
        "    gpt_response = generate_gpt_response(prompt)\n",
        "    print(\"Resposta do GPT:\", gpt_response)\n",
        "\n",
        "if __name__ == \"__main__\":\n",
        "    main()"
      ],
      "metadata": {
        "colab": {
          "base_uri": "https://localhost:8080/"
        },
        "id": "qJQSt-ly831n",
        "outputId": "17d6aaf6-76cf-4e2c-eb85-468c2cfde413"
      },
      "execution_count": null,
      "outputs": [
        {
          "output_type": "stream",
          "name": "stdout",
          "text": [
            "Conteúdo do arquivo: --- Página 1 ---\n",
            "CORREIO DO POVO TERÇA-FEIRA 77 de abril de 20217\n",
            "\n",
            "2. ASSOCIAÇÃO EDUCADORA SÃO CARLOS ' RELATÓRIO DA ADMINISTRAÇÃO —\n",
            "AESC Rua Carlos Bianchtbi, 996 \" Bairo Marseha Floraho , Cariss do Sul - Gezembro de 2020, mprovadas pelo Conselho Fiscal de Entdade em 15 de abri de 2021 e o mistóri dos auctaria indepentertes. -\n",
            "\n",
            "1.892/62 de 18/12/1962 Lucia Boniafti - Diretora Presidente\n",
            "\n",
            "Reconhecida de Utilidade Pública pelo Decreto Fodoral\n",
            "\n",
            "BALANÇO PATRIMONIAL EM 31 DE DEZEMBRO - (Em milhares de Reais) cãlsgm E—I;?:!m:n ”” namw n;?&rªª%umm\n",
            "Nieo ª—ºº mal |Pansivo ª—”ªª (Em milhares de Reais, exceto quando indicado de outra forma) (Em milhares de Reais)\n",
            "fn ereapresentado Nota — 2020 2019 Flh'uoulu Defici do\n",
            "Ativo circulante ” Passivo circulante * \"\"\"'\"'11,' Em 1º de janeiro de 2019........ _ÉHI '%( )Em\n",
            "uivalente \" 3os “ gentenepageaDaNe neno: n 60513\n",
            "RS RRAA DT a A Mic pn 1 S S3 Recenaíquas. 15 640135 — 62nA | incorporação mo patim social. — (5538) — 5538 :\n",
            "» 6 1185 8.218 | Empréstimos e financiamentos.. — 12 62737 31.693 | Custo dos senviços.......... . 17 (520924) — (534640)| Déficidoexercício. = —US.257) 05.257)\n",
            "7 12076S — 1000se | Obfesçoestodas elabanetãs 13 380 o q2N — 120214 |EmaIdedezembro de201.. 214778 — (15267) 10024\n",
            "9 23283 12.043 | Entidades conveniadas. : 8 10836 12238 Incorporeçõe es pattra eociel. “ (18250) — 18287\n",
            "” A B , EEA $ 366 1228 | Despesas com vendas .......... 17 (10722) — (16781)| Déficitdoexercício.. . (2.958) (9.968)\n",
            "\n",
            "17 (116255) — (120.976)\n",
            "\n",
            "D.wu:llgnillldmnmr—v\n",
            "1 1729 — 29665 17 8996 —— 8338 |Em21dedezembrode2020... 199,521 —(9.958) 189563\n",
            "\n",
            "6948 5138 f249g | Outras receitas, liquidas\n",
            "\n",
            "As notas explicativas da administração são parte\n",
            "201250 302542 204945 297830 | guperavit(déficit) operacional.. 1230 (9.205) integrante das demonstrações financeiras.\n",
            "Ativo não-circulante Passivo não-circulante 18 720 B381 DEi DOS FLUXOS DE CAIXA\n",
            "* N. o Enwhm e financiamentos. 12 72971 18 (18481) — (14433) EXERCÍCIOS EM 31 DE DEZEMBRO\n",
            ": ºassívo de arrendamento. 19 19969 (Em milhares de Reais)\n",
            "8 63554 74.007 4.300 1.100 | Resultado financeiro, liquido ... [11.188) (6.052)\n",
            "14 10248 6208 8 6367% — 7412 o é o o\n",
            "24 — 20M 14 65236 — 52094 |Déticitdoexercício.. — 525 =E —\n",
            "167273 — 156688 226171 252494 As notas explicativas da administração são parte. Nota 16))\n",
            "integrante das demonstrações financeiras. Fluxo de caixa das atividades cmmu\n",
            "Propriedades para investimento . 5.257 7280 531.116 550324 Dáéficit\n",
            "Ativos de direito de uso...... 19 21807 26600 DSONS'%AGÃDDORESCAÍMWGENTE Nll—êºmd' Ício ...........:- (9958) (15257)\n",
            "Imobílizado... muiâícies — 10 242306 — 254306 s RA AN SDA DAA reciação 17 2739% 28404\n",
            "Intangível \" ' 2786 130 199.521 214778 (Em mihares de Reais) n.sm.; na baixa de\n",
            "(9.958) (15.257) 22020 2019 imobilizado e intangível....... s o 12769) (1,780)\n",
            "& m M Déficit do exercício..... 19.958) (15.257) Dnnsa dlpm e variação\n",
            "Total do ativo não-circulante. Outros componentes do resultado &lllu.nll o = .. V200) 12927 2.903\n",
            "Total doativo ... * TS — T4R84S |Total do passivo e patrimônio social — 720,678 — 74845 | Total do resultado abrangente .\n",
            "\n",
            "\" am es)\n",
            "\n",
            "As notas explicativas da administração são parte integrante das demonstrações financeiras. \" mwm&%”“\n",
            "\n",
            "\n",
            "\n",
            "\n",
            "Resposta do GPT: - A Associação Educadora São Carlos foi fundada em 1962;\n",
            "- A associação possui um balanço patrimonial;\n",
            "- A associação é reconhecida como entidade de utilidade pública;\n",
            "- A associação tem um déficit operacional.\n"
          ]
        }
      ]
    }
  ]
}